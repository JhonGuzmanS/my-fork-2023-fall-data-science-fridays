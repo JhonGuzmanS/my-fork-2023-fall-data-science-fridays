{
 "cells": [
  {
   "cell_type": "code",
   "execution_count": 2,
   "id": "6eedda8e-e103-4611-b35c-249ab567bf12",
   "metadata": {},
   "outputs": [],
   "source": [
    "import pandas as pd\n",
    "import numpy as np\n",
    "import matplotlib.pyplot as plt\n",
    "import chess\n",
    "import seaborn as sns\n",
    "import time\n",
    "import random\n",
    "\n",
    "\n",
    "# sys.path.append('/../scripts/')\n",
    "# from pgn_to_df import pgn_to_df\n",
    "sns.set()\n",
    "pd.set_option('display.max_columns', 100)\n",
    "pd.set_option('display.max_rows', 10)\n",
    "plt.style.use('ggplot')"
   ]
  },
  {
   "cell_type": "code",
   "execution_count": 3,
   "id": "f2246cea-94f4-4734-a47d-10711f9bc933",
   "metadata": {},
   "outputs": [
    {
     "ename": "FileNotFoundError",
     "evalue": "[Errno 2] No such file or directory: 'games.csv'",
     "output_type": "error",
     "traceback": [
      "\u001b[1;31m---------------------------------------------------------------------------\u001b[0m",
      "\u001b[1;31mFileNotFoundError\u001b[0m                         Traceback (most recent call last)",
      "Cell \u001b[1;32mIn[3], line 1\u001b[0m\n\u001b[1;32m----> 1\u001b[0m df \u001b[38;5;241m=\u001b[39m \u001b[43mpd\u001b[49m\u001b[38;5;241;43m.\u001b[39;49m\u001b[43mread_csv\u001b[49m\u001b[43m(\u001b[49m\u001b[38;5;124;43m\"\u001b[39;49m\u001b[38;5;124;43mgames.csv\u001b[39;49m\u001b[38;5;124;43m\"\u001b[39;49m\u001b[43m)\u001b[49m\n\u001b[0;32m      2\u001b[0m df\n",
      "File \u001b[1;32m~\\AppData\\Local\\Programs\\Python\\Python311\\Lib\\site-packages\\pandas\\io\\parsers\\readers.py:948\u001b[0m, in \u001b[0;36mread_csv\u001b[1;34m(filepath_or_buffer, sep, delimiter, header, names, index_col, usecols, dtype, engine, converters, true_values, false_values, skipinitialspace, skiprows, skipfooter, nrows, na_values, keep_default_na, na_filter, verbose, skip_blank_lines, parse_dates, infer_datetime_format, keep_date_col, date_parser, date_format, dayfirst, cache_dates, iterator, chunksize, compression, thousands, decimal, lineterminator, quotechar, quoting, doublequote, escapechar, comment, encoding, encoding_errors, dialect, on_bad_lines, delim_whitespace, low_memory, memory_map, float_precision, storage_options, dtype_backend)\u001b[0m\n\u001b[0;32m    935\u001b[0m kwds_defaults \u001b[38;5;241m=\u001b[39m _refine_defaults_read(\n\u001b[0;32m    936\u001b[0m     dialect,\n\u001b[0;32m    937\u001b[0m     delimiter,\n\u001b[1;32m   (...)\u001b[0m\n\u001b[0;32m    944\u001b[0m     dtype_backend\u001b[38;5;241m=\u001b[39mdtype_backend,\n\u001b[0;32m    945\u001b[0m )\n\u001b[0;32m    946\u001b[0m kwds\u001b[38;5;241m.\u001b[39mupdate(kwds_defaults)\n\u001b[1;32m--> 948\u001b[0m \u001b[38;5;28;01mreturn\u001b[39;00m \u001b[43m_read\u001b[49m\u001b[43m(\u001b[49m\u001b[43mfilepath_or_buffer\u001b[49m\u001b[43m,\u001b[49m\u001b[43m \u001b[49m\u001b[43mkwds\u001b[49m\u001b[43m)\u001b[49m\n",
      "File \u001b[1;32m~\\AppData\\Local\\Programs\\Python\\Python311\\Lib\\site-packages\\pandas\\io\\parsers\\readers.py:611\u001b[0m, in \u001b[0;36m_read\u001b[1;34m(filepath_or_buffer, kwds)\u001b[0m\n\u001b[0;32m    608\u001b[0m _validate_names(kwds\u001b[38;5;241m.\u001b[39mget(\u001b[38;5;124m\"\u001b[39m\u001b[38;5;124mnames\u001b[39m\u001b[38;5;124m\"\u001b[39m, \u001b[38;5;28;01mNone\u001b[39;00m))\n\u001b[0;32m    610\u001b[0m \u001b[38;5;66;03m# Create the parser.\u001b[39;00m\n\u001b[1;32m--> 611\u001b[0m parser \u001b[38;5;241m=\u001b[39m \u001b[43mTextFileReader\u001b[49m\u001b[43m(\u001b[49m\u001b[43mfilepath_or_buffer\u001b[49m\u001b[43m,\u001b[49m\u001b[43m \u001b[49m\u001b[38;5;241;43m*\u001b[39;49m\u001b[38;5;241;43m*\u001b[39;49m\u001b[43mkwds\u001b[49m\u001b[43m)\u001b[49m\n\u001b[0;32m    613\u001b[0m \u001b[38;5;28;01mif\u001b[39;00m chunksize \u001b[38;5;129;01mor\u001b[39;00m iterator:\n\u001b[0;32m    614\u001b[0m     \u001b[38;5;28;01mreturn\u001b[39;00m parser\n",
      "File \u001b[1;32m~\\AppData\\Local\\Programs\\Python\\Python311\\Lib\\site-packages\\pandas\\io\\parsers\\readers.py:1448\u001b[0m, in \u001b[0;36mTextFileReader.__init__\u001b[1;34m(self, f, engine, **kwds)\u001b[0m\n\u001b[0;32m   1445\u001b[0m     \u001b[38;5;28mself\u001b[39m\u001b[38;5;241m.\u001b[39moptions[\u001b[38;5;124m\"\u001b[39m\u001b[38;5;124mhas_index_names\u001b[39m\u001b[38;5;124m\"\u001b[39m] \u001b[38;5;241m=\u001b[39m kwds[\u001b[38;5;124m\"\u001b[39m\u001b[38;5;124mhas_index_names\u001b[39m\u001b[38;5;124m\"\u001b[39m]\n\u001b[0;32m   1447\u001b[0m \u001b[38;5;28mself\u001b[39m\u001b[38;5;241m.\u001b[39mhandles: IOHandles \u001b[38;5;241m|\u001b[39m \u001b[38;5;28;01mNone\u001b[39;00m \u001b[38;5;241m=\u001b[39m \u001b[38;5;28;01mNone\u001b[39;00m\n\u001b[1;32m-> 1448\u001b[0m \u001b[38;5;28mself\u001b[39m\u001b[38;5;241m.\u001b[39m_engine \u001b[38;5;241m=\u001b[39m \u001b[38;5;28;43mself\u001b[39;49m\u001b[38;5;241;43m.\u001b[39;49m\u001b[43m_make_engine\u001b[49m\u001b[43m(\u001b[49m\u001b[43mf\u001b[49m\u001b[43m,\u001b[49m\u001b[43m \u001b[49m\u001b[38;5;28;43mself\u001b[39;49m\u001b[38;5;241;43m.\u001b[39;49m\u001b[43mengine\u001b[49m\u001b[43m)\u001b[49m\n",
      "File \u001b[1;32m~\\AppData\\Local\\Programs\\Python\\Python311\\Lib\\site-packages\\pandas\\io\\parsers\\readers.py:1705\u001b[0m, in \u001b[0;36mTextFileReader._make_engine\u001b[1;34m(self, f, engine)\u001b[0m\n\u001b[0;32m   1703\u001b[0m     \u001b[38;5;28;01mif\u001b[39;00m \u001b[38;5;124m\"\u001b[39m\u001b[38;5;124mb\u001b[39m\u001b[38;5;124m\"\u001b[39m \u001b[38;5;129;01mnot\u001b[39;00m \u001b[38;5;129;01min\u001b[39;00m mode:\n\u001b[0;32m   1704\u001b[0m         mode \u001b[38;5;241m+\u001b[39m\u001b[38;5;241m=\u001b[39m \u001b[38;5;124m\"\u001b[39m\u001b[38;5;124mb\u001b[39m\u001b[38;5;124m\"\u001b[39m\n\u001b[1;32m-> 1705\u001b[0m \u001b[38;5;28mself\u001b[39m\u001b[38;5;241m.\u001b[39mhandles \u001b[38;5;241m=\u001b[39m \u001b[43mget_handle\u001b[49m\u001b[43m(\u001b[49m\n\u001b[0;32m   1706\u001b[0m \u001b[43m    \u001b[49m\u001b[43mf\u001b[49m\u001b[43m,\u001b[49m\n\u001b[0;32m   1707\u001b[0m \u001b[43m    \u001b[49m\u001b[43mmode\u001b[49m\u001b[43m,\u001b[49m\n\u001b[0;32m   1708\u001b[0m \u001b[43m    \u001b[49m\u001b[43mencoding\u001b[49m\u001b[38;5;241;43m=\u001b[39;49m\u001b[38;5;28;43mself\u001b[39;49m\u001b[38;5;241;43m.\u001b[39;49m\u001b[43moptions\u001b[49m\u001b[38;5;241;43m.\u001b[39;49m\u001b[43mget\u001b[49m\u001b[43m(\u001b[49m\u001b[38;5;124;43m\"\u001b[39;49m\u001b[38;5;124;43mencoding\u001b[39;49m\u001b[38;5;124;43m\"\u001b[39;49m\u001b[43m,\u001b[49m\u001b[43m \u001b[49m\u001b[38;5;28;43;01mNone\u001b[39;49;00m\u001b[43m)\u001b[49m\u001b[43m,\u001b[49m\n\u001b[0;32m   1709\u001b[0m \u001b[43m    \u001b[49m\u001b[43mcompression\u001b[49m\u001b[38;5;241;43m=\u001b[39;49m\u001b[38;5;28;43mself\u001b[39;49m\u001b[38;5;241;43m.\u001b[39;49m\u001b[43moptions\u001b[49m\u001b[38;5;241;43m.\u001b[39;49m\u001b[43mget\u001b[49m\u001b[43m(\u001b[49m\u001b[38;5;124;43m\"\u001b[39;49m\u001b[38;5;124;43mcompression\u001b[39;49m\u001b[38;5;124;43m\"\u001b[39;49m\u001b[43m,\u001b[49m\u001b[43m \u001b[49m\u001b[38;5;28;43;01mNone\u001b[39;49;00m\u001b[43m)\u001b[49m\u001b[43m,\u001b[49m\n\u001b[0;32m   1710\u001b[0m \u001b[43m    \u001b[49m\u001b[43mmemory_map\u001b[49m\u001b[38;5;241;43m=\u001b[39;49m\u001b[38;5;28;43mself\u001b[39;49m\u001b[38;5;241;43m.\u001b[39;49m\u001b[43moptions\u001b[49m\u001b[38;5;241;43m.\u001b[39;49m\u001b[43mget\u001b[49m\u001b[43m(\u001b[49m\u001b[38;5;124;43m\"\u001b[39;49m\u001b[38;5;124;43mmemory_map\u001b[39;49m\u001b[38;5;124;43m\"\u001b[39;49m\u001b[43m,\u001b[49m\u001b[43m \u001b[49m\u001b[38;5;28;43;01mFalse\u001b[39;49;00m\u001b[43m)\u001b[49m\u001b[43m,\u001b[49m\n\u001b[0;32m   1711\u001b[0m \u001b[43m    \u001b[49m\u001b[43mis_text\u001b[49m\u001b[38;5;241;43m=\u001b[39;49m\u001b[43mis_text\u001b[49m\u001b[43m,\u001b[49m\n\u001b[0;32m   1712\u001b[0m \u001b[43m    \u001b[49m\u001b[43merrors\u001b[49m\u001b[38;5;241;43m=\u001b[39;49m\u001b[38;5;28;43mself\u001b[39;49m\u001b[38;5;241;43m.\u001b[39;49m\u001b[43moptions\u001b[49m\u001b[38;5;241;43m.\u001b[39;49m\u001b[43mget\u001b[49m\u001b[43m(\u001b[49m\u001b[38;5;124;43m\"\u001b[39;49m\u001b[38;5;124;43mencoding_errors\u001b[39;49m\u001b[38;5;124;43m\"\u001b[39;49m\u001b[43m,\u001b[49m\u001b[43m \u001b[49m\u001b[38;5;124;43m\"\u001b[39;49m\u001b[38;5;124;43mstrict\u001b[39;49m\u001b[38;5;124;43m\"\u001b[39;49m\u001b[43m)\u001b[49m\u001b[43m,\u001b[49m\n\u001b[0;32m   1713\u001b[0m \u001b[43m    \u001b[49m\u001b[43mstorage_options\u001b[49m\u001b[38;5;241;43m=\u001b[39;49m\u001b[38;5;28;43mself\u001b[39;49m\u001b[38;5;241;43m.\u001b[39;49m\u001b[43moptions\u001b[49m\u001b[38;5;241;43m.\u001b[39;49m\u001b[43mget\u001b[49m\u001b[43m(\u001b[49m\u001b[38;5;124;43m\"\u001b[39;49m\u001b[38;5;124;43mstorage_options\u001b[39;49m\u001b[38;5;124;43m\"\u001b[39;49m\u001b[43m,\u001b[49m\u001b[43m \u001b[49m\u001b[38;5;28;43;01mNone\u001b[39;49;00m\u001b[43m)\u001b[49m\u001b[43m,\u001b[49m\n\u001b[0;32m   1714\u001b[0m \u001b[43m\u001b[49m\u001b[43m)\u001b[49m\n\u001b[0;32m   1715\u001b[0m \u001b[38;5;28;01massert\u001b[39;00m \u001b[38;5;28mself\u001b[39m\u001b[38;5;241m.\u001b[39mhandles \u001b[38;5;129;01mis\u001b[39;00m \u001b[38;5;129;01mnot\u001b[39;00m \u001b[38;5;28;01mNone\u001b[39;00m\n\u001b[0;32m   1716\u001b[0m f \u001b[38;5;241m=\u001b[39m \u001b[38;5;28mself\u001b[39m\u001b[38;5;241m.\u001b[39mhandles\u001b[38;5;241m.\u001b[39mhandle\n",
      "File \u001b[1;32m~\\AppData\\Local\\Programs\\Python\\Python311\\Lib\\site-packages\\pandas\\io\\common.py:863\u001b[0m, in \u001b[0;36mget_handle\u001b[1;34m(path_or_buf, mode, encoding, compression, memory_map, is_text, errors, storage_options)\u001b[0m\n\u001b[0;32m    858\u001b[0m \u001b[38;5;28;01melif\u001b[39;00m \u001b[38;5;28misinstance\u001b[39m(handle, \u001b[38;5;28mstr\u001b[39m):\n\u001b[0;32m    859\u001b[0m     \u001b[38;5;66;03m# Check whether the filename is to be opened in binary mode.\u001b[39;00m\n\u001b[0;32m    860\u001b[0m     \u001b[38;5;66;03m# Binary mode does not support 'encoding' and 'newline'.\u001b[39;00m\n\u001b[0;32m    861\u001b[0m     \u001b[38;5;28;01mif\u001b[39;00m ioargs\u001b[38;5;241m.\u001b[39mencoding \u001b[38;5;129;01mand\u001b[39;00m \u001b[38;5;124m\"\u001b[39m\u001b[38;5;124mb\u001b[39m\u001b[38;5;124m\"\u001b[39m \u001b[38;5;129;01mnot\u001b[39;00m \u001b[38;5;129;01min\u001b[39;00m ioargs\u001b[38;5;241m.\u001b[39mmode:\n\u001b[0;32m    862\u001b[0m         \u001b[38;5;66;03m# Encoding\u001b[39;00m\n\u001b[1;32m--> 863\u001b[0m         handle \u001b[38;5;241m=\u001b[39m \u001b[38;5;28;43mopen\u001b[39;49m\u001b[43m(\u001b[49m\n\u001b[0;32m    864\u001b[0m \u001b[43m            \u001b[49m\u001b[43mhandle\u001b[49m\u001b[43m,\u001b[49m\n\u001b[0;32m    865\u001b[0m \u001b[43m            \u001b[49m\u001b[43mioargs\u001b[49m\u001b[38;5;241;43m.\u001b[39;49m\u001b[43mmode\u001b[49m\u001b[43m,\u001b[49m\n\u001b[0;32m    866\u001b[0m \u001b[43m            \u001b[49m\u001b[43mencoding\u001b[49m\u001b[38;5;241;43m=\u001b[39;49m\u001b[43mioargs\u001b[49m\u001b[38;5;241;43m.\u001b[39;49m\u001b[43mencoding\u001b[49m\u001b[43m,\u001b[49m\n\u001b[0;32m    867\u001b[0m \u001b[43m            \u001b[49m\u001b[43merrors\u001b[49m\u001b[38;5;241;43m=\u001b[39;49m\u001b[43merrors\u001b[49m\u001b[43m,\u001b[49m\n\u001b[0;32m    868\u001b[0m \u001b[43m            \u001b[49m\u001b[43mnewline\u001b[49m\u001b[38;5;241;43m=\u001b[39;49m\u001b[38;5;124;43m\"\u001b[39;49m\u001b[38;5;124;43m\"\u001b[39;49m\u001b[43m,\u001b[49m\n\u001b[0;32m    869\u001b[0m \u001b[43m        \u001b[49m\u001b[43m)\u001b[49m\n\u001b[0;32m    870\u001b[0m     \u001b[38;5;28;01melse\u001b[39;00m:\n\u001b[0;32m    871\u001b[0m         \u001b[38;5;66;03m# Binary mode\u001b[39;00m\n\u001b[0;32m    872\u001b[0m         handle \u001b[38;5;241m=\u001b[39m \u001b[38;5;28mopen\u001b[39m(handle, ioargs\u001b[38;5;241m.\u001b[39mmode)\n",
      "\u001b[1;31mFileNotFoundError\u001b[0m: [Errno 2] No such file or directory: 'games.csv'"
     ]
    }
   ],
   "source": [
    "df = pd.read_csv(\"games.csv\")\n",
    "df"
   ]
  },
  {
   "cell_type": "code",
   "execution_count": null,
   "id": "1bd9acc1-ea55-47e3-a8da-a3da4911184e",
   "metadata": {},
   "outputs": [],
   "source": [
    "# getting basic data and creating a copy of dataset\n",
    "columns = df.columns\n",
    "df_ = df.copy()\n",
    "df_ = df_.drop(columns=['id', 'created_at', 'last_move_at'])\n",
    "df_"
   ]
  },
  {
   "cell_type": "markdown",
   "id": "d513750b-fd57-4a99-883d-16396a52b6c2",
   "metadata": {},
   "source": [
    "```\n",
    "Column names:\n",
    "id\n",
    "rated\n",
    "created_at\n",
    "last_move_at\n",
    "turns\n",
    "victory_status\n",
    "winner\n",
    "increment_code\n",
    "white_id\n",
    "white_rating\n",
    "black_id\n",
    "black_rating\n",
    "moves\n",
    "opening_eco\n",
    "opening_name\n",
    "opening_ply\n",
    "```"
   ]
  },
  {
   "cell_type": "code",
   "execution_count": null,
   "id": "6d2b767a-1fbd-46ad-bfac-f2272f0f3bcd",
   "metadata": {},
   "outputs": [],
   "source": [
    "pd.concat([df_['white_id'], df_['black_id']]).value_counts()"
   ]
  },
  {
   "cell_type": "code",
   "execution_count": null,
   "id": "5103cad5-1271-4cdb-afc8-8f939fb84e30",
   "metadata": {},
   "outputs": [],
   "source": [
    "pd.concat([df_['white_id'], df_['black_id']]).value_counts(ascending=True).tail(20) \\\n",
    "    .plot(kind='barh', figsize=(8, 8), title=\"Most Frequent Players\", xlabel='Number of games')\n",
    "plt.show()"
   ]
  },
  {
   "cell_type": "code",
   "execution_count": null,
   "id": "78ff4a0a-3e71-4925-a2e0-9fdf78a79e15",
   "metadata": {},
   "outputs": [],
   "source": [
    "df_['opening_name'].value_counts()"
   ]
  },
  {
   "cell_type": "code",
   "execution_count": null,
   "id": "71055177-7e9a-4eb0-8250-95a2e621cdfa",
   "metadata": {},
   "outputs": [],
   "source": [
    "# keep when grouping by elo\n",
    "# df.groupby(['rating_category'])['opening_names'].value_counts()\n",
    "\n",
    "df_['opening_eco'].value_counts()"
   ]
  },
  {
   "cell_type": "code",
   "execution_count": null,
   "id": "0722c981-eca6-465b-96ca-3622d9fb7f3b",
   "metadata": {},
   "outputs": [],
   "source": []
  },
  {
   "cell_type": "code",
   "execution_count": null,
   "id": "95bb43eb-6efd-468c-8782-3c885f5c4f4f",
   "metadata": {},
   "outputs": [],
   "source": [
    "#First check if the ratings are within similar ranges\n",
    "\n",
    "rating_diff = df_[\"white_rating\"] - df_[\"black_rating\"]\n",
    "rating_range_within = abs(rating_diff) <= 1000\n",
    "rating_range_out = abs(rating_diff) > 1000\n",
    "print(\"out of {} games, {} games are within a range of 1,000 and {} games are not\".format(len(df_), rating_range_within.sum(), rating_range_out.sum()))"
   ]
  },
  {
   "cell_type": "code",
   "execution_count": null,
   "id": "c87662e0-e754-401e-a8d0-9c8fc23c5c5b",
   "metadata": {},
   "outputs": [],
   "source": [
    "rating_bin = [0, 1000, 1200, 1400, 1600, 1800, 2000, 2200, 2300, 2400, 2500, 2700]\n",
    "labels = [\"Novices\", \"E\", \"D\", \"C\", \"B\", \"A\", \"CM\", \"NM\", \"FM\", \"IM\", \"GM\"]\n",
    "df_['white_category'] = pd.cut(x = df_['white_rating'], bins = rating_bin, labels = labels, include_lowest = True)\n"
   ]
  },
  {
   "cell_type": "code",
   "execution_count": null,
   "id": "e03baf3b-4a59-452c-94ef-abe86eb832b9",
   "metadata": {},
   "outputs": [],
   "source": [
    "df_['black_category'] = pd.cut(x = df_['black_rating'], bins = rating_bin, labels = labels, include_lowest = True)\n",
    "df_.head()"
   ]
  },
  {
   "cell_type": "code",
   "execution_count": null,
   "id": "f072e2ff-7229-4dc9-8ba2-e6913abd2066",
   "metadata": {},
   "outputs": [],
   "source": [
    "pd.concat([df_['white_category'], df_['black_category']]).value_counts(ascending=True).tail(20) \\\n",
    "    .plot(kind='barh', figsize=(8, 8), title=\"LiChess Elo rated players\", xlabel='Number of games', ylabel='Elo categories')\n",
    "plt.show()"
   ]
  },
  {
   "cell_type": "markdown",
   "id": "84de0ece-3303-4261-accf-562b52bd527f",
   "metadata": {},
   "source": [
    "```\n",
    "What does this mean?\n",
    "Well to give you some context:\n",
    "    2700+\tsometimes informally called \"super grandmasters\"\r\n",
    "2500–2700\tmost Grandmasters (GM)\r\n",
    "2400–2500\tmost International Masters (IM) and some Grandmasters (GM)\r\n",
    "2300–2400\tmost FIDE Masters (FM) and some International Masters (IM)\r\n",
    "2200–2300\tFIDE Candidate Masters (CM), most national masters (NM)\r\n",
    "2000–2200\tCandidate masters (CM)\r\n",
    "1800–2000\tClass A, category 1\r\n",
    "1600–1800\tClass B, category 2\r\n",
    "1400–1600\tClass C, category 3\r\n",
    "1200–1400\tClass D, category 4\r\n",
    "1000–1200\tClass E, category 5\r\n",
    "Below 1000\tNovices\n",
    "\n",
    "*Note: taken by https://en.wikipedia.org/wiki/Chess_ra\n",
    "People who play LiChess more often are those with 1200 to 2000 elo, meaning above-average people play chess\n",
    "ting_system000\tNovices\n",
    "```"
   ]
  },
  {
   "cell_type": "markdown",
   "id": "e00c1217-3413-4d01-a167-faea0cec4e66",
   "metadata": {},
   "source": [
    "Now on to other things"
   ]
  },
  {
   "cell_type": "code",
   "execution_count": null,
   "id": "6952564f-1800-440e-9e3c-eb497a2a5a92",
   "metadata": {},
   "outputs": [],
   "source": [
    "df_[\"elo_diff\"] = df_['white_rating'] - df_['black_rating']\n",
    "df_.head()"
   ]
  },
  {
   "cell_type": "code",
   "execution_count": null,
   "id": "604ee61b-9109-4d89-a909-add660aadc89",
   "metadata": {},
   "outputs": [],
   "source": [
    "ax = df_[\"elo_diff\"].plot(kind=\"hist\", bins = 20, title=\"Difference between Rating\", xlabel='Elo difference')\n",
    "plt.show()"
   ]
  },
  {
   "cell_type": "code",
   "execution_count": null,
   "id": "3169d65b-347b-441b-a636-398cfc3e9cb6",
   "metadata": {},
   "outputs": [],
   "source": [
    "df_[['white_rating', 'black_rating', 'elo_diff', 'winner']]"
   ]
  },
  {
   "cell_type": "code",
   "execution_count": null,
   "id": "10e315e8-b0b4-46d2-883d-e17046a48e8f",
   "metadata": {},
   "outputs": [],
   "source": [
    "# displays the matches where the high-rated player wins the match\n",
    "df_upsets = (\n",
    "    df_.query(\"(elo_diff > 0 and winner == 'white') or (elo_diff < 0 and winner == 'black')\"\n",
    "             )\n",
    "    .reset_index(drop=True)\n",
    "    .copy()\n",
    ")\n",
    "\n",
    "df_upsets[['white_rating', 'black_rating', 'elo_diff', 'winner']]"
   ]
  },
  {
   "cell_type": "code",
   "execution_count": null,
   "id": "8345ab1f-6f24-471e-bdc4-64a3dbe36c3a",
   "metadata": {},
   "outputs": [],
   "source": [
    "ax = df_upsets[\"elo_diff\"].plot(kind=\"hist\", bins = 20, title=\"Difference between Rating for upsets\", xlabel='Elo difference')\n",
    "plt.show()"
   ]
  },
  {
   "cell_type": "code",
   "execution_count": null,
   "id": "1b6f6bee-536d-4e8b-b899-93c0984bf59a",
   "metadata": {},
   "outputs": [],
   "source": [
    "ax = df_upsets[\"elo_diff\"].plot(kind=\"hist\", bins = 20, title=\"Difference between Rating for upsets\")\n",
    "ax = df_upsets[\"elo_diff\"].loc[df_upsets[['white_rating', 'black_rating']].max(axis=1) > 1600].plot(kind=\"hist\", bins = 20, title=\"Difference between Rating for upsets +1600\", color='blue', alpha=0.2)\n",
    "\n",
    "ax.set_xlabel(\"Elo difference\")\n",
    "plt.show()\n",
    "ax.set_xlabel(\"Elo difference\")\n",
    "plt.show()\n",
    "\n",
    "#different upsets"
   ]
  },
  {
   "cell_type": "markdown",
   "id": "7da47e97-4f4d-4bfe-a894-435b3d2a24a1",
   "metadata": {},
   "source": [
    "Looking at the matches. For time sake we will only look at upset matches since we already have the data prepared"
   ]
  },
  {
   "cell_type": "code",
   "execution_count": null,
   "id": "1662ef4c-bb3d-4759-b827-525691b3a2c1",
   "metadata": {},
   "outputs": [],
   "source": [
    "cond = df_upsets['victory_status'] != 'outoftime'\n",
    "cond1 = df_upsets['white_category'] == 'C'\n",
    "match_history = df_upsets['moves'].where(cond & cond1)\n",
    "match_history = match_history.dropna()\n",
    "match_history"
   ]
  },
  {
   "cell_type": "code",
   "execution_count": null,
   "id": "f4b7edb1-66e9-4673-8923-339720de46e8",
   "metadata": {},
   "outputs": [],
   "source": [
    "board = chess.Board()\n",
    "print(board)\n",
    "test_moves = match_history[1]\n",
    "test_moves = test_moves.split()\n",
    "for move in test_moves:\n",
    "    board.push_san(move)\n",
    "    print(board)\n",
    "    print()\n",
    "board"
   ]
  },
  {
   "cell_type": "markdown",
   "id": "09083180-1205-4eee-8843-14de87de9c3e",
   "metadata": {},
   "source": [
    "Does not look appealing, and only one board is shown, which is the end of the moves list"
   ]
  },
  {
   "cell_type": "code",
   "execution_count": null,
   "id": "3f3b8545-7080-4388-8970-0a390aa32566",
   "metadata": {},
   "outputs": [],
   "source": [
    "#so instead, after hours of searching and reading, used someone's code\n",
    "# https://jupyter.brynmawr.edu/services/public/dblank/CS371%20Cognitive%20Science/2016-Fall/Programming%20a%20Chess%20Player.ipynb\n",
    "import play_chess as pc"
   ]
  },
  {
   "cell_type": "code",
   "execution_count": null,
   "id": "52f89c73-5f34-4901-b0df-d9c0fd0e5987",
   "metadata": {},
   "outputs": [],
   "source": [
    "pc.play_game(pc.random_player, pc.random_player)"
   ]
  },
  {
   "cell_type": "markdown",
   "id": "24aea7e0-fd69-48fe-822d-4d7ddbd37902",
   "metadata": {},
   "source": [
    "Now we got a chess board that updates moves without having to create a whole new board. \n",
    "With this we can visualize matches, form how the games started, to how they finished.\n",
    "### But before that, let us go back to our Player, \"taranga\""
   ]
  },
  {
   "cell_type": "code",
   "execution_count": null,
   "id": "023cc27f-083c-4b80-bf46-8b2c360ccb5a",
   "metadata": {},
   "outputs": [],
   "source": [
    "white = df_['white_id'] == \"taranga\"\n",
    "black = df_['black_id'] == \"taranga\"\n",
    "print(\"{} {}\".format(white.value_counts(), black.value_counts()))"
   ]
  },
  {
   "cell_type": "code",
   "execution_count": null,
   "id": "98307529-3d9c-43ab-be6c-3db0dc31cbe8",
   "metadata": {},
   "outputs": [],
   "source": []
  }
 ],
 "metadata": {
  "kernelspec": {
   "display_name": "Python 3 (ipykernel)",
   "language": "python",
   "name": "python3"
  },
  "language_info": {
   "codemirror_mode": {
    "name": "ipython",
    "version": 3
   },
   "file_extension": ".py",
   "mimetype": "text/x-python",
   "name": "python",
   "nbconvert_exporter": "python",
   "pygments_lexer": "ipython3",
   "version": "3.11.5"
  }
 },
 "nbformat": 4,
 "nbformat_minor": 5
}
